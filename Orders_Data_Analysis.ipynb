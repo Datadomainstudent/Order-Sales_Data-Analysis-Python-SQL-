{
  "nbformat": 4,
  "nbformat_minor": 0,
  "metadata": {
    "colab": {
      "provenance": []
    },
    "kernelspec": {
      "name": "python3",
      "display_name": "Python 3"
    },
    "language_info": {
      "name": "python"
    }
  },
  "cells": [
    {
      "cell_type": "code",
      "source": [
        "#!/usr/bin/env python\n",
        "# coding: utf-8\n",
        "\n",
        "# In[76]:\n"
      ],
      "metadata": {
        "id": "VBr8kJNG5ji9"
      },
      "execution_count": 2,
      "outputs": []
    },
    {
      "cell_type": "code",
      "source": [
        "#import libraries\n",
        "#!pip install kaggle\n",
        "import kaggle\n",
        "\n",
        "!kaggle datasets download ankitbansal06/retail-orders -f orders.csv\n",
        "\n",
        "\n",
        "# In[77]:"
      ],
      "metadata": {
        "id": "dUChFTmRBb3N"
      },
      "execution_count": null,
      "outputs": []
    },
    {
      "cell_type": "code",
      "source": [
        "#extract file from zip file\n",
        "import zipfile\n",
        "zip_ref = zipfile.ZipFile('orders.csv.zip')\n",
        "zip_ref.extractall() # extract file to dir\n",
        "zip_ref.close() # close file\n",
        "\n",
        "\n",
        "# In[145]:"
      ],
      "metadata": {
        "id": "Q0vygF3w5jdJ"
      },
      "execution_count": null,
      "outputs": []
    },
    {
      "cell_type": "code",
      "source": [
        "#read data from the file and handle null values\n",
        "import pandas as pd\n",
        "df = pd.read_csv('orders.csv',na_values=['Not Available','unknown'])\n",
        "df['Ship Mode'].unique()\n",
        "\n",
        "\n",
        "# In[154]:"
      ],
      "metadata": {
        "id": "XWSJ-0bi5jbH"
      },
      "execution_count": null,
      "outputs": []
    },
    {
      "cell_type": "code",
      "source": [
        "#rename columns names ..make them lower case and replace space with underscore\n",
        "#df.rename(columns={'Order Id':'order_id', 'City':'city'})\n",
        "#df.columns=df.columns.str.lower()\n",
        "#df.columns=df.columns.str.replace(' ','_')\n",
        "df.head(5)\n",
        "\n",
        "\n",
        "# In[159]:"
      ],
      "metadata": {
        "id": "0XuxnfD_5jYa"
      },
      "execution_count": null,
      "outputs": []
    },
    {
      "cell_type": "code",
      "source": [
        "#derive new columns discount , sale price and profit\n",
        "#df['discount']=df['list_price']*df['discount_percent']*.01\n",
        "#df['sale_price']= df['list_price']-df['discount']\n",
        "df['profit']=df['sale_price']-df['cost_price']\n",
        "df\n",
        "\n",
        "\n",
        "# In[162]:"
      ],
      "metadata": {
        "id": "YP7g9aC_5jVd"
      },
      "execution_count": null,
      "outputs": []
    },
    {
      "cell_type": "code",
      "source": [
        "#convert order date from object data type to datetime\n",
        "df['order_date']=pd.to_datetime(df['order_date'],format=\"%Y-%m-%d\")\n",
        "\n",
        "\n",
        "# In[167]:"
      ],
      "metadata": {
        "id": "qiI-dkpN5jTB"
      },
      "execution_count": null,
      "outputs": []
    },
    {
      "cell_type": "code",
      "source": [
        "#drop cost price list price and discount percent columns\n",
        "df.drop(columns=['list_price','cost_price','discount_percent'],inplace=True)\n",
        "\n",
        "\n",
        "# In[169]:"
      ],
      "metadata": {
        "id": "sRizqb915jQj"
      },
      "execution_count": null,
      "outputs": []
    },
    {
      "cell_type": "code",
      "source": [
        "#load the data into sql server using replace option\n",
        "import sqlalchemy as sal\n",
        "engine = sal.create_engine('mssql://Kanishka\\SQLEXPRESS/master?driver=ODBC+DRIVER+17+FOR+SQL+SERVER')\n",
        "conn=engine.connect()\n",
        "\n",
        "\n",
        "# In[172]:"
      ],
      "metadata": {
        "id": "4isxdI2f7oyo"
      },
      "execution_count": null,
      "outputs": []
    },
    {
      "cell_type": "code",
      "source": [
        "#load the data into sql server using append option\n",
        "df.to_sql('df_orders', con=conn , index=False, if_exists = 'append')"
      ],
      "metadata": {
        "id": "tGlU_l1Z7ovQ"
      },
      "execution_count": null,
      "outputs": []
    }
  ]
}